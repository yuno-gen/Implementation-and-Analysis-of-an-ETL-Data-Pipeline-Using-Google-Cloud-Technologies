{
  "nbformat": 4,
  "nbformat_minor": 0,
  "metadata": {
    "colab": {
      "provenance": []
    },
    "kernelspec": {
      "name": "python3",
      "display_name": "Python 3"
    },
    "language_info": {
      "name": "python"
    }
  },
  "cells": [
    {
      "cell_type": "code",
      "source": [
        "%pip install faker"
      ],
      "metadata": {
        "colab": {
          "base_uri": "https://localhost:8080/"
        },
        "id": "wP9aeSJJpZ9r",
        "outputId": "49273303-d132-4d40-b9e1-dee5dd0f9de8"
      },
      "execution_count": 6,
      "outputs": [
        {
          "output_type": "stream",
          "name": "stdout",
          "text": [
            "Requirement already satisfied: faker in /usr/local/lib/python3.10/dist-packages (24.14.0)\n",
            "Requirement already satisfied: python-dateutil>=2.4 in /usr/local/lib/python3.10/dist-packages (from faker) (2.8.2)\n",
            "Requirement already satisfied: six>=1.5 in /usr/local/lib/python3.10/dist-packages (from python-dateutil>=2.4->faker) (1.16.0)\n"
          ]
        }
      ]
    },
    {
      "cell_type": "code",
      "source": [
        "from google.colab import auth\n",
        "auth.authenticate_user()"
      ],
      "metadata": {
        "id": "1Ut4POk3pkVM"
      },
      "execution_count": 7,
      "outputs": []
    },
    {
      "cell_type": "code",
      "execution_count": 15,
      "metadata": {
        "colab": {
          "base_uri": "https://localhost:8080/"
        },
        "id": "MVkHBHJypVcR",
        "outputId": "38f07184-396c-433f-f62e-9e25a30eee29"
      },
      "outputs": [
        {
          "output_type": "stream",
          "name": "stdout",
          "text": [
            "File employee_data.csv uploaded to employee_data.csv in mgmt-employee.\n"
          ]
        }
      ],
      "source": [
        "import csv\n",
        "from faker import Faker\n",
        "import random\n",
        "import string\n",
        "from google.cloud import storage\n",
        "\n",
        "# Specify number of employees to generate\n",
        "num_employees = 500\n",
        "\n",
        "# Create Faker instance\n",
        "fake = Faker()\n",
        "\n",
        "# Define the character set for the password\n",
        "password_characters = string.ascii_letters + string.digits + 'm'\n",
        "\n",
        "# Generates employee data and save it to a CSV file\n",
        "with open('employee_data.csv', mode='w', newline='') as file:\n",
        "    fieldnames = ['first_name', 'last_name', 'job_title', 'department', 'email', 'address', 'phone_number', 'salary', 'password']\n",
        "    writer = csv.DictWriter(file, fieldnames=fieldnames)\n",
        "\n",
        "    writer.writeheader()\n",
        "    for _ in range(num_employees):\n",
        "        writer.writerow({\n",
        "            \"first_name\": fake.first_name(),\n",
        "            \"last_name\": fake.last_name(),\n",
        "            \"job_title\": fake.job(),\n",
        "            \"department\": fake.job(),  # Generates department-like data using the job() method\n",
        "            \"email\": fake.email(),\n",
        "            \"address\": fake.city(),\n",
        "            \"phone_number\": fake.phone_number(),\n",
        "            \"salary\": fake.random_number(digits=5),  # Generates a random 5-digit salary\n",
        "            \"password\": ''.join(random.choice(password_characters) for _ in range(8))  # Generate an 8-character password with 'm'\n",
        "        })\n",
        "\n",
        "# Upload the CSV file to a GCS bucket\n",
        "def upload_to_gcs(bucket_name, source_file_name, destination_blob_name):\n",
        "    storage_client = storage.Client()\n",
        "    bucket = storage_client.bucket(bucket_name)\n",
        "    blob = bucket.blob(destination_blob_name)\n",
        "\n",
        "    blob.upload_from_filename(source_file_name)\n",
        "\n",
        "    print(f'File {source_file_name} uploaded to {destination_blob_name} in {bucket_name}.')\n",
        "\n",
        "# Set the GCS bucket name and destination file name\n",
        "bucket_name = 'mgmt-employee'\n",
        "source_file_name = 'employee_data.csv'\n",
        "destination_blob_name = 'employee_data.csv'\n",
        "\n",
        "# Upload the CSV file to GCS\n",
        "upload_to_gcs(bucket_name, source_file_name, destination_blob_name)"
      ]
    },
    {
      "cell_type": "code",
      "source": [],
      "metadata": {
        "id": "1TzXB859pXgx"
      },
      "execution_count": null,
      "outputs": []
    }
  ]
}